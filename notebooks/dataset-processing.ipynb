{
 "cells": [
  {
   "cell_type": "markdown",
   "metadata": {},
   "source": [
    "# Create HuggingFace Dataset from Element Highlights\n",
    "\n",
    "This notebook processes element-highlights snapshots into a HuggingFace dataset with image-caption pairs."
   ]
  },
  {
   "cell_type": "markdown",
   "metadata": {},
   "source": [
    "## 1. Install Libraries and Import Dependencies"
   ]
  },
  {
   "cell_type": "code",
   "execution_count": 1,
   "metadata": {},
   "outputs": [
    {
     "name": "stdout",
     "output_type": "stream",
     "text": [
      "Requirement already satisfied: pandas in /opt/anaconda3/envs/rrweb-processing/lib/python3.11/site-packages (2.2.3)\n",
      "Requirement already satisfied: numpy in /opt/anaconda3/envs/rrweb-processing/lib/python3.11/site-packages (2.2.3)\n",
      "Requirement already satisfied: matplotlib in /opt/anaconda3/envs/rrweb-processing/lib/python3.11/site-packages (3.10.1)\n",
      "Requirement already satisfied: tqdm in /opt/anaconda3/envs/rrweb-processing/lib/python3.11/site-packages (4.67.1)\n",
      "Requirement already satisfied: datasets in /opt/anaconda3/envs/rrweb-processing/lib/python3.11/site-packages (3.3.2)\n",
      "Requirement already satisfied: huggingface_hub in /opt/anaconda3/envs/rrweb-processing/lib/python3.11/site-packages (0.29.2)\n",
      "Requirement already satisfied: pillow in /opt/anaconda3/envs/rrweb-processing/lib/python3.11/site-packages (11.1.0)\n",
      "Requirement already satisfied: python-dateutil>=2.8.2 in /opt/anaconda3/envs/rrweb-processing/lib/python3.11/site-packages (from pandas) (2.9.0.post0)\n",
      "Requirement already satisfied: pytz>=2020.1 in /opt/anaconda3/envs/rrweb-processing/lib/python3.11/site-packages (from pandas) (2025.1)\n",
      "Requirement already satisfied: tzdata>=2022.7 in /opt/anaconda3/envs/rrweb-processing/lib/python3.11/site-packages (from pandas) (2025.1)\n",
      "Requirement already satisfied: contourpy>=1.0.1 in /opt/anaconda3/envs/rrweb-processing/lib/python3.11/site-packages (from matplotlib) (1.3.1)\n",
      "Requirement already satisfied: cycler>=0.10 in /opt/anaconda3/envs/rrweb-processing/lib/python3.11/site-packages (from matplotlib) (0.12.1)\n",
      "Requirement already satisfied: fonttools>=4.22.0 in /opt/anaconda3/envs/rrweb-processing/lib/python3.11/site-packages (from matplotlib) (4.56.0)\n",
      "Requirement already satisfied: kiwisolver>=1.3.1 in /opt/anaconda3/envs/rrweb-processing/lib/python3.11/site-packages (from matplotlib) (1.4.8)\n",
      "Requirement already satisfied: packaging>=20.0 in /opt/anaconda3/envs/rrweb-processing/lib/python3.11/site-packages (from matplotlib) (24.2)\n",
      "Requirement already satisfied: pyparsing>=2.3.1 in /opt/anaconda3/envs/rrweb-processing/lib/python3.11/site-packages (from matplotlib) (3.2.1)\n",
      "Requirement already satisfied: filelock in /opt/anaconda3/envs/rrweb-processing/lib/python3.11/site-packages (from datasets) (3.17.0)\n",
      "Requirement already satisfied: pyarrow>=15.0.0 in /opt/anaconda3/envs/rrweb-processing/lib/python3.11/site-packages (from datasets) (19.0.1)\n",
      "Requirement already satisfied: dill<0.3.9,>=0.3.0 in /opt/anaconda3/envs/rrweb-processing/lib/python3.11/site-packages (from datasets) (0.3.8)\n",
      "Requirement already satisfied: requests>=2.32.2 in /opt/anaconda3/envs/rrweb-processing/lib/python3.11/site-packages (from datasets) (2.32.3)\n",
      "Requirement already satisfied: xxhash in /opt/anaconda3/envs/rrweb-processing/lib/python3.11/site-packages (from datasets) (3.5.0)\n",
      "Requirement already satisfied: multiprocess<0.70.17 in /opt/anaconda3/envs/rrweb-processing/lib/python3.11/site-packages (from datasets) (0.70.16)\n",
      "Requirement already satisfied: fsspec<=2024.12.0,>=2023.1.0 in /opt/anaconda3/envs/rrweb-processing/lib/python3.11/site-packages (from fsspec[http]<=2024.12.0,>=2023.1.0->datasets) (2024.12.0)\n",
      "Requirement already satisfied: aiohttp in /opt/anaconda3/envs/rrweb-processing/lib/python3.11/site-packages (from datasets) (3.11.13)\n",
      "Requirement already satisfied: pyyaml>=5.1 in /opt/anaconda3/envs/rrweb-processing/lib/python3.11/site-packages (from datasets) (6.0.2)\n",
      "Requirement already satisfied: typing-extensions>=3.7.4.3 in /opt/anaconda3/envs/rrweb-processing/lib/python3.11/site-packages (from huggingface_hub) (4.12.2)\n",
      "Requirement already satisfied: aiohappyeyeballs>=2.3.0 in /opt/anaconda3/envs/rrweb-processing/lib/python3.11/site-packages (from aiohttp->datasets) (2.5.0)\n",
      "Requirement already satisfied: aiosignal>=1.1.2 in /opt/anaconda3/envs/rrweb-processing/lib/python3.11/site-packages (from aiohttp->datasets) (1.3.2)\n",
      "Requirement already satisfied: attrs>=17.3.0 in /opt/anaconda3/envs/rrweb-processing/lib/python3.11/site-packages (from aiohttp->datasets) (25.1.0)\n",
      "Requirement already satisfied: frozenlist>=1.1.1 in /opt/anaconda3/envs/rrweb-processing/lib/python3.11/site-packages (from aiohttp->datasets) (1.5.0)\n",
      "Requirement already satisfied: multidict<7.0,>=4.5 in /opt/anaconda3/envs/rrweb-processing/lib/python3.11/site-packages (from aiohttp->datasets) (6.1.0)\n",
      "Requirement already satisfied: propcache>=0.2.0 in /opt/anaconda3/envs/rrweb-processing/lib/python3.11/site-packages (from aiohttp->datasets) (0.3.0)\n",
      "Requirement already satisfied: yarl<2.0,>=1.17.0 in /opt/anaconda3/envs/rrweb-processing/lib/python3.11/site-packages (from aiohttp->datasets) (1.18.3)\n",
      "Requirement already satisfied: six>=1.5 in /opt/anaconda3/envs/rrweb-processing/lib/python3.11/site-packages (from python-dateutil>=2.8.2->pandas) (1.17.0)\n",
      "Requirement already satisfied: charset-normalizer<4,>=2 in /opt/anaconda3/envs/rrweb-processing/lib/python3.11/site-packages (from requests>=2.32.2->datasets) (3.4.1)\n",
      "Requirement already satisfied: idna<4,>=2.5 in /opt/anaconda3/envs/rrweb-processing/lib/python3.11/site-packages (from requests>=2.32.2->datasets) (3.10)\n",
      "Requirement already satisfied: urllib3<3,>=1.21.1 in /opt/anaconda3/envs/rrweb-processing/lib/python3.11/site-packages (from requests>=2.32.2->datasets) (2.3.0)\n",
      "Requirement already satisfied: certifi>=2017.4.17 in /opt/anaconda3/envs/rrweb-processing/lib/python3.11/site-packages (from requests>=2.32.2->datasets) (2025.1.31)\n"
     ]
    }
   ],
   "source": [
    "# Install required packages\n",
    "!pip install pandas numpy matplotlib tqdm datasets huggingface_hub pillow\n",
    "\n",
    "import os\n",
    "import glob\n",
    "import json\n",
    "import shutil\n",
    "import hashlib\n",
    "import pandas as pd\n",
    "import numpy as np\n",
    "from PIL import Image\n",
    "import matplotlib.pyplot as plt\n",
    "from tqdm.notebook import tqdm\n",
    "from datasets import Dataset, Image as DSImage, DatasetDict, Features, Value\n",
    "from huggingface_hub import login, HfApi, create_repo"
   ]
  },
  {
   "cell_type": "markdown",
   "metadata": {},
   "source": [
    "## 2. Configuration"
   ]
  },
  {
   "cell_type": "code",
   "execution_count": 2,
   "metadata": {},
   "outputs": [],
   "source": [
    "# Configuration\n",
    "HF_USERNAME = \"Slyracoon23\"  # Your HuggingFace username\n",
    "DATASET_NAME = \"rrvideo-element-highlights\"  # Name for your dataset\n",
    "ELEMENT_HIGHLIGHTS_DIR = \"../element-highlights\"  # Path to element-highlights directory\n",
    "PROCESSED_DATA_DIR = \"processed_data\"  # Directory to store processed data\n",
    "\n",
    "# Create directories\n",
    "os.makedirs(PROCESSED_DATA_DIR, exist_ok=True)\n",
    "os.makedirs(os.path.join(PROCESSED_DATA_DIR, \"images\"), exist_ok=True)"
   ]
  },
  {
   "cell_type": "markdown",
   "metadata": {},
   "source": [
    "## 3. Login to HuggingFace"
   ]
  },
  {
   "cell_type": "code",
   "execution_count": 3,
   "metadata": {},
   "outputs": [
    {
     "name": "stdout",
     "output_type": "stream",
     "text": [
      "Already logged in as: Slyracoon23\n",
      "Repository Slyracoon23/rrvideo-element-highlights is ready\n"
     ]
    }
   ],
   "source": [
    "# ... existing code ...\n",
    "from huggingface_hub import login, whoami\n",
    "try:\n",
    "\n",
    "    # Try to get user info to check if already logged in\n",
    "    user_info = whoami()\n",
    "    print(f\"Already logged in as: {user_info['name']}\")\n",
    "except Exception:\n",
    "    print(\"Not logged in. Please login...\")\n",
    "    # Use the simpler login() function\n",
    "    try:\n",
    "        login()\n",
    "        print(\"Login successful!\")\n",
    "    except Exception as e:\n",
    "        print(f\"Error during login: {e}\")\n",
    "        print(\"Please make sure you're logged in before proceeding.\")\n",
    "\n",
    "# Create repository if it doesn't exist\n",
    "try:\n",
    "    create_repo(\n",
    "        repo_id=f\"{HF_USERNAME}/{DATASET_NAME}\",\n",
    "        repo_type=\"dataset\",\n",
    "        exist_ok=True,\n",
    "        private=False\n",
    "    )\n",
    "    print(f\"Repository {HF_USERNAME}/{DATASET_NAME} is ready\")\n",
    "except Exception as e:\n",
    "    print(f\"Error creating repository: {e}\")\n",
    "# ... existing code ...\n"
   ]
  },
  {
   "cell_type": "markdown",
   "metadata": {},
   "source": [
    "## 4. Helper Functions"
   ]
  },
  {
   "cell_type": "code",
   "execution_count": 4,
   "metadata": {},
   "outputs": [],
   "source": [
    "def parse_snapshot_name(snapshot_dir):\n",
    "    \"\"\"Extract snapshot ID and timestamp from directory name\"\"\"\n",
    "    base_name = os.path.basename(snapshot_dir)\n",
    "    parts = base_name.split('_')\n",
    "    if len(parts) >= 3:\n",
    "        try:\n",
    "            snapshot_id = int(parts[1])\n",
    "            timestamp = int(parts[2])\n",
    "            return {\n",
    "                \"snapshot_id\": snapshot_id,\n",
    "                \"timestamp\": timestamp,\n",
    "                \"snapshot_name\": base_name\n",
    "            }\n",
    "        except ValueError:\n",
    "            print(f\"Could not parse snapshot name: {base_name}\")\n",
    "    return None\n",
    "\n",
    "def generate_image_hash(img_path):\n",
    "    \"\"\"Generate a hash for the image to prevent duplicates\"\"\"\n",
    "    try:\n",
    "        with open(img_path, 'rb') as f:\n",
    "            return hashlib.md5(f.read()).hexdigest()\n",
    "    except Exception as e:\n",
    "        print(f\"Error generating hash for {img_path}: {e}\")\n",
    "        return None\n",
    "\n",
    "def extract_element_metadata(img_path):\n",
    "    \"\"\"Extract basic metadata from the image\"\"\"\n",
    "    try:\n",
    "        img = Image.open(img_path)\n",
    "        width, height = img.size\n",
    "        return {\n",
    "            \"width\": width,\n",
    "            \"height\": height,\n",
    "            \"aspect_ratio\": width / height if height > 0 else 0\n",
    "        }\n",
    "    except Exception as e:\n",
    "        print(f\"Error extracting metadata from {img_path}: {e}\")\n",
    "        return {}\n",
    "\n",
    "def generate_caption(element_data):\n",
    "    \"\"\"Generate a caption for the element\"\"\"\n",
    "    element_id = element_data.get(\"element_id\", \"unknown\")\n",
    "    snapshot_id = element_data.get(\"snapshot_id\", \"unknown\")\n",
    "    metadata = element_data.get(\"metadata\", {})\n",
    "    \n",
    "    # Basic caption\n",
    "    caption = f\"UI element {element_id} from snapshot {snapshot_id}\"\n",
    "    \n",
    "    # Add dimensions if available\n",
    "    if \"width\" in metadata and \"height\" in metadata:\n",
    "        caption += f\", dimensions {metadata['width']}x{metadata['height']} pixels\"\n",
    "    \n",
    "    return caption"
   ]
  },
  {
   "cell_type": "markdown",
   "metadata": {},
   "source": [
    "## 5. Process Snapshots"
   ]
  },
  {
   "cell_type": "code",
   "execution_count": 5,
   "metadata": {},
   "outputs": [
    {
     "name": "stdout",
     "output_type": "stream",
     "text": [
      "Found 516 snapshot directories\n"
     ]
    },
    {
     "data": {
      "application/vnd.jupyter.widget-view+json": {
       "model_id": "bcf929216756409096f1e96e89b3b6f6",
       "version_major": 2,
       "version_minor": 0
      },
      "text/plain": [
       "Processing snapshots:   0%|          | 0/516 [00:00<?, ?it/s]"
      ]
     },
     "metadata": {},
     "output_type": "display_data"
    },
    {
     "name": "stdout",
     "output_type": "stream",
     "text": [
      "Processed 38569 elements across 516 snapshots\n"
     ]
    }
   ],
   "source": [
    "def process_snapshot(snapshot_dir):\n",
    "    \"\"\"Process a single snapshot directory and return image-caption pairs\"\"\"\n",
    "    snapshot_info = parse_snapshot_name(snapshot_dir)\n",
    "    if not snapshot_info:\n",
    "        return []\n",
    "    \n",
    "    # Get all element images in the directory\n",
    "    element_images = [f for f in glob.glob(os.path.join(snapshot_dir, \"element_*.png\"))]\n",
    "    \n",
    "    data = []\n",
    "    \n",
    "    for img_path in element_images:\n",
    "        # Get element ID from filename\n",
    "        element_id = os.path.basename(img_path).replace(\"element_\", \"\").replace(\".png\", \"\")\n",
    "        \n",
    "        # Generate a hash for the image\n",
    "        img_hash = generate_image_hash(img_path)\n",
    "        if not img_hash:\n",
    "            continue\n",
    "        \n",
    "        # Copy image to processed directory with hash name\n",
    "        new_img_path = os.path.join(PROCESSED_DATA_DIR, \"images\", f\"{img_hash}.png\")\n",
    "        shutil.copy(img_path, new_img_path)\n",
    "        \n",
    "        # Extract metadata\n",
    "        metadata = extract_element_metadata(img_path)\n",
    "        \n",
    "        # Prepare data entry\n",
    "        element_data = {\n",
    "            \"image_path\": new_img_path,\n",
    "            \"original_path\": img_path,\n",
    "            \"image_hash\": img_hash,\n",
    "            \"snapshot_id\": snapshot_info[\"snapshot_id\"],\n",
    "            \"timestamp\": snapshot_info[\"timestamp\"],\n",
    "            \"element_id\": element_id,\n",
    "            \"snapshot_name\": snapshot_info[\"snapshot_name\"],\n",
    "            \"metadata\": metadata\n",
    "        }\n",
    "        \n",
    "        # Generate caption\n",
    "        element_data[\"caption\"] = generate_caption(element_data)\n",
    "        \n",
    "        data.append(element_data)\n",
    "    \n",
    "    return data\n",
    "\n",
    "def process_all_snapshots():\n",
    "    \"\"\"Process all snapshot directories and compile dataset\"\"\"\n",
    "    # Get all snapshot directories\n",
    "    snapshot_dirs = glob.glob(os.path.join(ELEMENT_HIGHLIGHTS_DIR, \"snapshot_*\"))\n",
    "    print(f\"Found {len(snapshot_dirs)} snapshot directories\")\n",
    "    \n",
    "    all_data = []\n",
    "    \n",
    "    for snapshot_dir in tqdm(snapshot_dirs, desc=\"Processing snapshots\"):\n",
    "        snapshot_data = process_snapshot(snapshot_dir)\n",
    "        all_data.extend(snapshot_data)\n",
    "    \n",
    "    print(f\"Processed {len(all_data)} elements across {len(snapshot_dirs)} snapshots\")\n",
    "    \n",
    "    # Convert to DataFrame for easier manipulation\n",
    "    df = pd.DataFrame(all_data)\n",
    "    \n",
    "    # Save intermediate CSV for inspection\n",
    "    df.to_csv(os.path.join(PROCESSED_DATA_DIR, \"element_data.csv\"), index=False)\n",
    "    \n",
    "    return df\n",
    "\n",
    "# Process all snapshots\n",
    "df = process_all_snapshots()"
   ]
  },
  {
   "cell_type": "markdown",
   "metadata": {},
   "source": [
    "## 6. Analyze and Clean Data"
   ]
  },
  {
   "cell_type": "code",
   "execution_count": 10,
   "metadata": {},
   "outputs": [
    {
     "name": "stdout",
     "output_type": "stream",
     "text": [
      "Dataset Statistics:\n",
      "Total number of elements: 118\n",
      "Number of unique snapshots: 3\n",
      "Number of unique image hashes: 118\n",
      "Found 0 duplicate images (based on hash)\n",
      "\n",
      "First row of the DataFrame:\n",
      "{'image_path': 'processed_data/images/779afeeba597c8022f789b268e93f8d9.png', 'original_path': '../element-highlights/snapshot_395_1739845543701/element_64.png', 'image_hash': '779afeeba597c8022f789b268e93f8d9', 'snapshot_id': 395, 'timestamp': 1739845543701, 'element_id': '64', 'snapshot_name': 'snapshot_395_1739845543701', 'metadata': {'width': 1280, 'height': 720, 'aspect_ratio': 1.7777777777777777}, 'caption': 'UI element 64 from snapshot 395, dimensions 1280x720 pixels', 'width': 1280, 'height': 720, 'aspect_ratio': 1.7777777777777777}\n",
      "\n",
      "Missing values in each column:\n",
      "image_path       0\n",
      "original_path    0\n",
      "image_hash       0\n",
      "snapshot_id      0\n",
      "timestamp        0\n",
      "element_id       0\n",
      "snapshot_name    0\n",
      "metadata         0\n",
      "caption          0\n",
      "width            0\n",
      "height           0\n",
      "aspect_ratio     0\n",
      "dtype: int64\n",
      "\n",
      "Found 0 elements with invalid dimensions\n",
      "\n",
      "Summary statistics for dimensions:\n",
      "        width  height  aspect_ratio\n",
      "count   118.0   118.0  1.180000e+02\n",
      "mean   1280.0   720.0  1.777778e+00\n",
      "std       0.0     0.0  2.229915e-16\n",
      "min    1280.0   720.0  1.777778e+00\n",
      "25%    1280.0   720.0  1.777778e+00\n",
      "50%    1280.0   720.0  1.777778e+00\n",
      "75%    1280.0   720.0  1.777778e+00\n",
      "max    1280.0   720.0  1.777778e+00\n"
     ]
    },
    {
     "data": {
      "text/html": [
       "<div>\n",
       "<style scoped>\n",
       "    .dataframe tbody tr th:only-of-type {\n",
       "        vertical-align: middle;\n",
       "    }\n",
       "\n",
       "    .dataframe tbody tr th {\n",
       "        vertical-align: top;\n",
       "    }\n",
       "\n",
       "    .dataframe thead th {\n",
       "        text-align: right;\n",
       "    }\n",
       "</style>\n",
       "<table border=\"1\" class=\"dataframe\">\n",
       "  <thead>\n",
       "    <tr style=\"text-align: right;\">\n",
       "      <th></th>\n",
       "      <th>image_path</th>\n",
       "      <th>original_path</th>\n",
       "      <th>image_hash</th>\n",
       "      <th>snapshot_id</th>\n",
       "      <th>timestamp</th>\n",
       "      <th>element_id</th>\n",
       "      <th>snapshot_name</th>\n",
       "      <th>metadata</th>\n",
       "      <th>caption</th>\n",
       "      <th>width</th>\n",
       "      <th>height</th>\n",
       "      <th>aspect_ratio</th>\n",
       "    </tr>\n",
       "  </thead>\n",
       "  <tbody>\n",
       "    <tr>\n",
       "      <th>0</th>\n",
       "      <td>processed_data/images/779afeeba597c8022f789b26...</td>\n",
       "      <td>../element-highlights/snapshot_395_17398455437...</td>\n",
       "      <td>779afeeba597c8022f789b268e93f8d9</td>\n",
       "      <td>395</td>\n",
       "      <td>1739845543701</td>\n",
       "      <td>64</td>\n",
       "      <td>snapshot_395_1739845543701</td>\n",
       "      <td>{'width': 1280, 'height': 720, 'aspect_ratio':...</td>\n",
       "      <td>UI element 64 from snapshot 395, dimensions 12...</td>\n",
       "      <td>1280</td>\n",
       "      <td>720</td>\n",
       "      <td>1.777778</td>\n",
       "    </tr>\n",
       "    <tr>\n",
       "      <th>2</th>\n",
       "      <td>processed_data/images/e2cf657b476c409f7cb34cff...</td>\n",
       "      <td>../element-highlights/snapshot_395_17398455437...</td>\n",
       "      <td>e2cf657b476c409f7cb34cff44650c78</td>\n",
       "      <td>395</td>\n",
       "      <td>1739845543701</td>\n",
       "      <td>58</td>\n",
       "      <td>snapshot_395_1739845543701</td>\n",
       "      <td>{'width': 1280, 'height': 720, 'aspect_ratio':...</td>\n",
       "      <td>UI element 58 from snapshot 395, dimensions 12...</td>\n",
       "      <td>1280</td>\n",
       "      <td>720</td>\n",
       "      <td>1.777778</td>\n",
       "    </tr>\n",
       "    <tr>\n",
       "      <th>3</th>\n",
       "      <td>processed_data/images/f2ee0b413e2da0d528c2cb6f...</td>\n",
       "      <td>../element-highlights/snapshot_395_17398455437...</td>\n",
       "      <td>f2ee0b413e2da0d528c2cb6f7ca93c32</td>\n",
       "      <td>395</td>\n",
       "      <td>1739845543701</td>\n",
       "      <td>59</td>\n",
       "      <td>snapshot_395_1739845543701</td>\n",
       "      <td>{'width': 1280, 'height': 720, 'aspect_ratio':...</td>\n",
       "      <td>UI element 59 from snapshot 395, dimensions 12...</td>\n",
       "      <td>1280</td>\n",
       "      <td>720</td>\n",
       "      <td>1.777778</td>\n",
       "    </tr>\n",
       "    <tr>\n",
       "      <th>4</th>\n",
       "      <td>processed_data/images/169692b03151735d447d70da...</td>\n",
       "      <td>../element-highlights/snapshot_395_17398455437...</td>\n",
       "      <td>169692b03151735d447d70da169e268a</td>\n",
       "      <td>395</td>\n",
       "      <td>1739845543701</td>\n",
       "      <td>71</td>\n",
       "      <td>snapshot_395_1739845543701</td>\n",
       "      <td>{'width': 1280, 'height': 720, 'aspect_ratio':...</td>\n",
       "      <td>UI element 71 from snapshot 395, dimensions 12...</td>\n",
       "      <td>1280</td>\n",
       "      <td>720</td>\n",
       "      <td>1.777778</td>\n",
       "    </tr>\n",
       "    <tr>\n",
       "      <th>6</th>\n",
       "      <td>processed_data/images/b4046cd6ad7f075409151bb1...</td>\n",
       "      <td>../element-highlights/snapshot_395_17398455437...</td>\n",
       "      <td>b4046cd6ad7f075409151bb101904b21</td>\n",
       "      <td>395</td>\n",
       "      <td>1739845543701</td>\n",
       "      <td>73</td>\n",
       "      <td>snapshot_395_1739845543701</td>\n",
       "      <td>{'width': 1280, 'height': 720, 'aspect_ratio':...</td>\n",
       "      <td>UI element 73 from snapshot 395, dimensions 12...</td>\n",
       "      <td>1280</td>\n",
       "      <td>720</td>\n",
       "      <td>1.777778</td>\n",
       "    </tr>\n",
       "    <tr>\n",
       "      <th>...</th>\n",
       "      <td>...</td>\n",
       "      <td>...</td>\n",
       "      <td>...</td>\n",
       "      <td>...</td>\n",
       "      <td>...</td>\n",
       "      <td>...</td>\n",
       "      <td>...</td>\n",
       "      <td>...</td>\n",
       "      <td>...</td>\n",
       "      <td>...</td>\n",
       "      <td>...</td>\n",
       "      <td>...</td>\n",
       "    </tr>\n",
       "    <tr>\n",
       "      <th>29095</th>\n",
       "      <td>processed_data/images/f731cbf483da9919c86b8e41...</td>\n",
       "      <td>../element-highlights/snapshot_515_17398455577...</td>\n",
       "      <td>f731cbf483da9919c86b8e41e9f69538</td>\n",
       "      <td>515</td>\n",
       "      <td>1739845557705</td>\n",
       "      <td>68</td>\n",
       "      <td>snapshot_515_1739845557705</td>\n",
       "      <td>{'width': 1280, 'height': 720, 'aspect_ratio':...</td>\n",
       "      <td>UI element 68 from snapshot 515, dimensions 12...</td>\n",
       "      <td>1280</td>\n",
       "      <td>720</td>\n",
       "      <td>1.777778</td>\n",
       "    </tr>\n",
       "    <tr>\n",
       "      <th>29096</th>\n",
       "      <td>processed_data/images/bcd79f819924b1c8616380bf...</td>\n",
       "      <td>../element-highlights/snapshot_515_17398455577...</td>\n",
       "      <td>bcd79f819924b1c8616380bfea81aa66</td>\n",
       "      <td>515</td>\n",
       "      <td>1739845557705</td>\n",
       "      <td>40</td>\n",
       "      <td>snapshot_515_1739845557705</td>\n",
       "      <td>{'width': 1280, 'height': 720, 'aspect_ratio':...</td>\n",
       "      <td>UI element 40 from snapshot 515, dimensions 12...</td>\n",
       "      <td>1280</td>\n",
       "      <td>720</td>\n",
       "      <td>1.777778</td>\n",
       "    </tr>\n",
       "    <tr>\n",
       "      <th>29097</th>\n",
       "      <td>processed_data/images/4b0254896d2a79d9ff628f19...</td>\n",
       "      <td>../element-highlights/snapshot_515_17398455577...</td>\n",
       "      <td>4b0254896d2a79d9ff628f19fbbc85ac</td>\n",
       "      <td>515</td>\n",
       "      <td>1739845557705</td>\n",
       "      <td>54</td>\n",
       "      <td>snapshot_515_1739845557705</td>\n",
       "      <td>{'width': 1280, 'height': 720, 'aspect_ratio':...</td>\n",
       "      <td>UI element 54 from snapshot 515, dimensions 12...</td>\n",
       "      <td>1280</td>\n",
       "      <td>720</td>\n",
       "      <td>1.777778</td>\n",
       "    </tr>\n",
       "    <tr>\n",
       "      <th>29098</th>\n",
       "      <td>processed_data/images/bba5ce15d2004d65a04d289a...</td>\n",
       "      <td>../element-highlights/snapshot_515_17398455577...</td>\n",
       "      <td>bba5ce15d2004d65a04d289adb75743a</td>\n",
       "      <td>515</td>\n",
       "      <td>1739845557705</td>\n",
       "      <td>55</td>\n",
       "      <td>snapshot_515_1739845557705</td>\n",
       "      <td>{'width': 1280, 'height': 720, 'aspect_ratio':...</td>\n",
       "      <td>UI element 55 from snapshot 515, dimensions 12...</td>\n",
       "      <td>1280</td>\n",
       "      <td>720</td>\n",
       "      <td>1.777778</td>\n",
       "    </tr>\n",
       "    <tr>\n",
       "      <th>29099</th>\n",
       "      <td>processed_data/images/661379457d6a7a7d4ab04623...</td>\n",
       "      <td>../element-highlights/snapshot_515_17398455577...</td>\n",
       "      <td>661379457d6a7a7d4ab04623962b5cee</td>\n",
       "      <td>515</td>\n",
       "      <td>1739845557705</td>\n",
       "      <td>41</td>\n",
       "      <td>snapshot_515_1739845557705</td>\n",
       "      <td>{'width': 1280, 'height': 720, 'aspect_ratio':...</td>\n",
       "      <td>UI element 41 from snapshot 515, dimensions 12...</td>\n",
       "      <td>1280</td>\n",
       "      <td>720</td>\n",
       "      <td>1.777778</td>\n",
       "    </tr>\n",
       "  </tbody>\n",
       "</table>\n",
       "<p>118 rows × 12 columns</p>\n",
       "</div>"
      ],
      "text/plain": [
       "                                              image_path  \\\n",
       "0      processed_data/images/779afeeba597c8022f789b26...   \n",
       "2      processed_data/images/e2cf657b476c409f7cb34cff...   \n",
       "3      processed_data/images/f2ee0b413e2da0d528c2cb6f...   \n",
       "4      processed_data/images/169692b03151735d447d70da...   \n",
       "6      processed_data/images/b4046cd6ad7f075409151bb1...   \n",
       "...                                                  ...   \n",
       "29095  processed_data/images/f731cbf483da9919c86b8e41...   \n",
       "29096  processed_data/images/bcd79f819924b1c8616380bf...   \n",
       "29097  processed_data/images/4b0254896d2a79d9ff628f19...   \n",
       "29098  processed_data/images/bba5ce15d2004d65a04d289a...   \n",
       "29099  processed_data/images/661379457d6a7a7d4ab04623...   \n",
       "\n",
       "                                           original_path  \\\n",
       "0      ../element-highlights/snapshot_395_17398455437...   \n",
       "2      ../element-highlights/snapshot_395_17398455437...   \n",
       "3      ../element-highlights/snapshot_395_17398455437...   \n",
       "4      ../element-highlights/snapshot_395_17398455437...   \n",
       "6      ../element-highlights/snapshot_395_17398455437...   \n",
       "...                                                  ...   \n",
       "29095  ../element-highlights/snapshot_515_17398455577...   \n",
       "29096  ../element-highlights/snapshot_515_17398455577...   \n",
       "29097  ../element-highlights/snapshot_515_17398455577...   \n",
       "29098  ../element-highlights/snapshot_515_17398455577...   \n",
       "29099  ../element-highlights/snapshot_515_17398455577...   \n",
       "\n",
       "                             image_hash  snapshot_id      timestamp  \\\n",
       "0      779afeeba597c8022f789b268e93f8d9          395  1739845543701   \n",
       "2      e2cf657b476c409f7cb34cff44650c78          395  1739845543701   \n",
       "3      f2ee0b413e2da0d528c2cb6f7ca93c32          395  1739845543701   \n",
       "4      169692b03151735d447d70da169e268a          395  1739845543701   \n",
       "6      b4046cd6ad7f075409151bb101904b21          395  1739845543701   \n",
       "...                                 ...          ...            ...   \n",
       "29095  f731cbf483da9919c86b8e41e9f69538          515  1739845557705   \n",
       "29096  bcd79f819924b1c8616380bfea81aa66          515  1739845557705   \n",
       "29097  4b0254896d2a79d9ff628f19fbbc85ac          515  1739845557705   \n",
       "29098  bba5ce15d2004d65a04d289adb75743a          515  1739845557705   \n",
       "29099  661379457d6a7a7d4ab04623962b5cee          515  1739845557705   \n",
       "\n",
       "      element_id               snapshot_name  \\\n",
       "0             64  snapshot_395_1739845543701   \n",
       "2             58  snapshot_395_1739845543701   \n",
       "3             59  snapshot_395_1739845543701   \n",
       "4             71  snapshot_395_1739845543701   \n",
       "6             73  snapshot_395_1739845543701   \n",
       "...          ...                         ...   \n",
       "29095         68  snapshot_515_1739845557705   \n",
       "29096         40  snapshot_515_1739845557705   \n",
       "29097         54  snapshot_515_1739845557705   \n",
       "29098         55  snapshot_515_1739845557705   \n",
       "29099         41  snapshot_515_1739845557705   \n",
       "\n",
       "                                                metadata  \\\n",
       "0      {'width': 1280, 'height': 720, 'aspect_ratio':...   \n",
       "2      {'width': 1280, 'height': 720, 'aspect_ratio':...   \n",
       "3      {'width': 1280, 'height': 720, 'aspect_ratio':...   \n",
       "4      {'width': 1280, 'height': 720, 'aspect_ratio':...   \n",
       "6      {'width': 1280, 'height': 720, 'aspect_ratio':...   \n",
       "...                                                  ...   \n",
       "29095  {'width': 1280, 'height': 720, 'aspect_ratio':...   \n",
       "29096  {'width': 1280, 'height': 720, 'aspect_ratio':...   \n",
       "29097  {'width': 1280, 'height': 720, 'aspect_ratio':...   \n",
       "29098  {'width': 1280, 'height': 720, 'aspect_ratio':...   \n",
       "29099  {'width': 1280, 'height': 720, 'aspect_ratio':...   \n",
       "\n",
       "                                                 caption  width  height  \\\n",
       "0      UI element 64 from snapshot 395, dimensions 12...   1280     720   \n",
       "2      UI element 58 from snapshot 395, dimensions 12...   1280     720   \n",
       "3      UI element 59 from snapshot 395, dimensions 12...   1280     720   \n",
       "4      UI element 71 from snapshot 395, dimensions 12...   1280     720   \n",
       "6      UI element 73 from snapshot 395, dimensions 12...   1280     720   \n",
       "...                                                  ...    ...     ...   \n",
       "29095  UI element 68 from snapshot 515, dimensions 12...   1280     720   \n",
       "29096  UI element 40 from snapshot 515, dimensions 12...   1280     720   \n",
       "29097  UI element 54 from snapshot 515, dimensions 12...   1280     720   \n",
       "29098  UI element 55 from snapshot 515, dimensions 12...   1280     720   \n",
       "29099  UI element 41 from snapshot 515, dimensions 12...   1280     720   \n",
       "\n",
       "       aspect_ratio  \n",
       "0          1.777778  \n",
       "2          1.777778  \n",
       "3          1.777778  \n",
       "4          1.777778  \n",
       "6          1.777778  \n",
       "...             ...  \n",
       "29095      1.777778  \n",
       "29096      1.777778  \n",
       "29097      1.777778  \n",
       "29098      1.777778  \n",
       "29099      1.777778  \n",
       "\n",
       "[118 rows x 12 columns]"
      ]
     },
     "execution_count": 10,
     "metadata": {},
     "output_type": "execute_result"
    }
   ],
   "source": [
    "# Display basic statistics\n",
    "print(\"Dataset Statistics:\")\n",
    "print(f\"Total number of elements: {len(df)}\")\n",
    "print(f\"Number of unique snapshots: {df['snapshot_id'].nunique()}\")\n",
    "print(f\"Number of unique image hashes: {df['image_hash'].nunique()}\")\n",
    "\n",
    "# Extract width and height from metadata for easier access\n",
    "df['width'] = df['metadata'].apply(lambda x: x.get('width', 0))\n",
    "df['height'] = df['metadata'].apply(lambda x: x.get('height', 0))\n",
    "df['aspect_ratio'] = df['metadata'].apply(lambda x: x.get('aspect_ratio', 0))\n",
    "\n",
    "# Check for duplicate images\n",
    "duplicates = df[df.duplicated(subset=['image_hash'], keep='first')]\n",
    "print(f\"Found {len(duplicates)} duplicate images (based on hash)\")\n",
    "\n",
    "# Remove duplicates if any\n",
    "if len(duplicates) > 0:\n",
    "    df = df.drop_duplicates(subset=['image_hash'], keep='first')\n",
    "    print(f\"After removing duplicates: {len(df)} elements\")\n",
    "\n",
    "# Display the first row of the DataFrame to understand its structure\n",
    "print(\"\\nFirst row of the DataFrame:\")\n",
    "print(df.iloc[0].to_dict())\n",
    "\n",
    "# Check for missing values\n",
    "missing_values = df.isnull().sum()\n",
    "print(\"\\nMissing values in each column:\")\n",
    "print(missing_values)\n",
    "\n",
    "# Check for invalid dimensions (zero or negative width/height)\n",
    "invalid_dimensions = df[(df['width'] <= 0) | (df['height'] <= 0)]\n",
    "print(f\"\\nFound {len(invalid_dimensions)} elements with invalid dimensions\")\n",
    "\n",
    "# Remove elements with invalid dimensions if any\n",
    "if len(invalid_dimensions) > 0:\n",
    "    df = df[(df['width'] > 0) & (df['height'] > 0)]\n",
    "    print(f\"After removing invalid dimensions: {len(df)} elements\")\n",
    "\n",
    "# Display summary statistics for numerical columns\n",
    "print(\"\\nSummary statistics for dimensions:\")\n",
    "print(df[['width', 'height', 'aspect_ratio']].describe())\n",
    "df"
   ]
  },
  {
   "cell_type": "markdown",
   "metadata": {},
   "source": [
    "## 7. Create and Upload HuggingFace Dataset"
   ]
  },
  {
   "cell_type": "code",
   "execution_count": 14,
   "metadata": {},
   "outputs": [
    {
     "name": "stdout",
     "output_type": "stream",
     "text": [
      "Creating and uploading dataset...\n"
     ]
    },
    {
     "data": {
      "application/vnd.jupyter.widget-view+json": {
       "model_id": "a11e1159a7af4d3298f47227bd3ebe7f",
       "version_major": 2,
       "version_minor": 0
      },
      "text/plain": [
       "Map:   0%|          | 0/118 [00:00<?, ? examples/s]"
      ]
     },
     "metadata": {},
     "output_type": "display_data"
    },
    {
     "name": "stdout",
     "output_type": "stream",
     "text": [
      "Dataset splits:\n",
      "  train: 94 examples\n",
      "  validation: 12 examples\n",
      "  test: 12 examples\n"
     ]
    },
    {
     "data": {
      "application/vnd.jupyter.widget-view+json": {
       "model_id": "82635ed7364d4e5d9364ba3b45179a55",
       "version_major": 2,
       "version_minor": 0
      },
      "text/plain": [
       "Uploading the dataset shards:   0%|          | 0/1 [00:00<?, ?it/s]"
      ]
     },
     "metadata": {},
     "output_type": "display_data"
    },
    {
     "data": {
      "application/vnd.jupyter.widget-view+json": {
       "model_id": "a902089c47424b26a22c5794a5ac1453",
       "version_major": 2,
       "version_minor": 0
      },
      "text/plain": [
       "Map:   0%|          | 0/94 [00:00<?, ? examples/s]"
      ]
     },
     "metadata": {},
     "output_type": "display_data"
    },
    {
     "data": {
      "application/vnd.jupyter.widget-view+json": {
       "model_id": "a6a672b75a844c2d880497ea77831b2a",
       "version_major": 2,
       "version_minor": 0
      },
      "text/plain": [
       "Creating parquet from Arrow format:   0%|          | 0/1 [00:00<?, ?ba/s]"
      ]
     },
     "metadata": {},
     "output_type": "display_data"
    },
    {
     "data": {
      "application/vnd.jupyter.widget-view+json": {
       "model_id": "3779770e8c654d308dab2fdd2f39188d",
       "version_major": 2,
       "version_minor": 0
      },
      "text/plain": [
       "Uploading the dataset shards:   0%|          | 0/1 [00:00<?, ?it/s]"
      ]
     },
     "metadata": {},
     "output_type": "display_data"
    },
    {
     "data": {
      "application/vnd.jupyter.widget-view+json": {
       "model_id": "3b577d2bb99a485bba214015b5b3876f",
       "version_major": 2,
       "version_minor": 0
      },
      "text/plain": [
       "Map:   0%|          | 0/12 [00:00<?, ? examples/s]"
      ]
     },
     "metadata": {},
     "output_type": "display_data"
    },
    {
     "data": {
      "application/vnd.jupyter.widget-view+json": {
       "model_id": "f731e096b35d43debdd815c7d72931e0",
       "version_major": 2,
       "version_minor": 0
      },
      "text/plain": [
       "Creating parquet from Arrow format:   0%|          | 0/1 [00:00<?, ?ba/s]"
      ]
     },
     "metadata": {},
     "output_type": "display_data"
    },
    {
     "data": {
      "application/vnd.jupyter.widget-view+json": {
       "model_id": "5b5935758fcc47b5a74e038414f1a7d3",
       "version_major": 2,
       "version_minor": 0
      },
      "text/plain": [
       "Uploading the dataset shards:   0%|          | 0/1 [00:00<?, ?it/s]"
      ]
     },
     "metadata": {},
     "output_type": "display_data"
    },
    {
     "data": {
      "application/vnd.jupyter.widget-view+json": {
       "model_id": "8132bd40fdb941e69c8da58a53475a24",
       "version_major": 2,
       "version_minor": 0
      },
      "text/plain": [
       "Map:   0%|          | 0/12 [00:00<?, ? examples/s]"
      ]
     },
     "metadata": {},
     "output_type": "display_data"
    },
    {
     "data": {
      "application/vnd.jupyter.widget-view+json": {
       "model_id": "5cdd72a2594d4802a06da48c76630050",
       "version_major": 2,
       "version_minor": 0
      },
      "text/plain": [
       "Creating parquet from Arrow format:   0%|          | 0/1 [00:00<?, ?ba/s]"
      ]
     },
     "metadata": {},
     "output_type": "display_data"
    },
    {
     "name": "stdout",
     "output_type": "stream",
     "text": [
      "Dataset uploaded to https://huggingface.co/datasets/Slyracoon23/rrvideo-element-highlights\n"
     ]
    }
   ],
   "source": [
    "def create_and_upload_dataset(df):\n",
    "    \"\"\"Create HuggingFace dataset and upload to Hub\"\"\"\n",
    "    # Convert metadata dict to string to avoid serialization issues\n",
    "    df['metadata_str'] = df['metadata'].apply(json.dumps)\n",
    "    \n",
    "    # Convert to HuggingFace dataset - the index_col parameter is not supported\n",
    "    # Reset the index to avoid including it in the dataset\n",
    "    df_reset = df.reset_index(drop=True)\n",
    "    dataset = Dataset.from_pandas(df_reset)\n",
    "    \n",
    "    # Define features\n",
    "    features = Features({\n",
    "        \"image\": DSImage(),\n",
    "        \"caption\": Value(\"string\"),\n",
    "        \"snapshot_id\": Value(\"int64\"),\n",
    "        \"timestamp\": Value(\"int64\"),\n",
    "        \"element_id\": Value(\"string\"),\n",
    "        \"image_hash\": Value(\"string\"),\n",
    "        \"snapshot_name\": Value(\"string\"),\n",
    "        \"metadata_str\": Value(\"string\"),\n",
    "        \"width\": Value(\"int64\"),\n",
    "        \"height\": Value(\"int64\"),\n",
    "        \"aspect_ratio\": Value(\"float32\")\n",
    "    })\n",
    "    \n",
    "    # Convert image paths to actual images\n",
    "    def process_example(example):\n",
    "        image = Image.open(example[\"image_path\"])\n",
    "        return {\n",
    "            \"image\": image,\n",
    "            \"caption\": example[\"caption\"],\n",
    "            \"snapshot_id\": example[\"snapshot_id\"],\n",
    "            \"timestamp\": example[\"timestamp\"],\n",
    "            \"element_id\": example[\"element_id\"],\n",
    "            \"image_hash\": example[\"image_hash\"],\n",
    "            \"snapshot_name\": example[\"snapshot_name\"],\n",
    "            \"metadata_str\": example[\"metadata_str\"],\n",
    "            \"width\": example[\"width\"],\n",
    "            \"height\": example[\"height\"],\n",
    "            \"aspect_ratio\": example[\"aspect_ratio\"]\n",
    "        }\n",
    "    \n",
    "    # Apply the transformation\n",
    "    dataset = dataset.map(\n",
    "        process_example,\n",
    "        remove_columns=[\"image_path\", \"original_path\", \"metadata\"],\n",
    "        features=features\n",
    "    )\n",
    "    \n",
    "    # Split into train/validation/test sets (80/10/10 split)\n",
    "    splits = dataset.train_test_split(test_size=0.2, seed=42)\n",
    "    test_valid = splits[\"test\"].train_test_split(test_size=0.5, seed=42)\n",
    "    \n",
    "    # Create DatasetDict\n",
    "    dataset_dict = DatasetDict({\n",
    "        \"train\": splits[\"train\"],\n",
    "        \"validation\": test_valid[\"train\"],\n",
    "        \"test\": test_valid[\"test\"]\n",
    "    })\n",
    "    \n",
    "    # Print split information\n",
    "    print(\"Dataset splits:\")\n",
    "    for split, subset in dataset_dict.items():\n",
    "        print(f\"  {split}: {len(subset)} examples\")\n",
    "    \n",
    "    # Push to hub\n",
    "    dataset_dict.push_to_hub(\n",
    "        f\"{HF_USERNAME}/{DATASET_NAME}\",\n",
    "        private=False\n",
    "    )\n",
    "    \n",
    "    print(f\"Dataset uploaded to https://huggingface.co/datasets/{HF_USERNAME}/{DATASET_NAME}\")\n",
    "    return dataset_dict\n",
    "\n",
    "# Create and upload dataset\n",
    "print(\"Creating and uploading dataset...\")\n",
    "dataset_dict = create_and_upload_dataset(df)"
   ]
  },
  {
   "cell_type": "markdown",
   "metadata": {},
   "source": [
    "## 8. Create Dataset Card"
   ]
  },
  {
   "cell_type": "code",
   "execution_count": 15,
   "metadata": {},
   "outputs": [
    {
     "name": "stdout",
     "output_type": "stream",
     "text": [
      "Dataset card uploaded to https://huggingface.co/datasets/Slyracoon23/rrvideo-element-highlights\n"
     ]
    }
   ],
   "source": [
    "def create_dataset_card():\n",
    "    \"\"\"Create a dataset card with information about the dataset\"\"\"\n",
    "    card = f\"\"\"\n",
    "---\n",
    "language:\n",
    "- en\n",
    "license: cc-by-4.0\n",
    "task_categories:\n",
    "- image-classification\n",
    "- image-to-text\n",
    "---\n",
    "\n",
    "# Dataset Card for {DATASET_NAME}\n",
    "\n",
    "## Dataset Description\n",
    "\n",
    "This dataset contains UI element images extracted from web snapshots, along with captions describing each element.\n",
    "\n",
    "### Dataset Summary\n",
    "\n",
    "The dataset contains {len(df)} unique UI elements from {df['snapshot_id'].nunique()} different snapshots. Each element is associated with a caption describing its basic properties.\n",
    "\n",
    "### Dataset Statistics\n",
    "\n",
    "- Total elements: {len(df)}\n",
    "- Unique snapshots: {df['snapshot_id'].nunique()}\n",
    "- Average element width: {df['width'].mean():.2f} pixels\n",
    "- Average element height: {df['height'].mean():.2f} pixels\n",
    "- Average aspect ratio: {df['aspect_ratio'].mean():.2f}\n",
    "\n",
    "## Dataset Structure\n",
    "\n",
    "### Data Fields\n",
    "\n",
    "- **image**: The UI element image\n",
    "- **caption**: A description of the element\n",
    "- **snapshot_id**: The snapshot identifier\n",
    "- **timestamp**: When the snapshot was taken\n",
    "- **element_id**: Identifier for the specific element\n",
    "- **width**: The width of the element in pixels\n",
    "- **height**: The height of the element in pixels\n",
    "- **aspect_ratio**: The aspect ratio of the element\n",
    "\n",
    "### Data Splits\n",
    "\n",
    "- Train: {len(dataset_dict['train'])} examples (80%)\n",
    "- Validation: {len(dataset_dict['validation'])} examples (10%)\n",
    "- Test: {len(dataset_dict['test'])} examples (10%)\n",
    "\"\"\"\n",
    "    \n",
    "    # Write dataset card to file\n",
    "    readme_path = os.path.join(PROCESSED_DATA_DIR, \"README.md\")\n",
    "    with open(readme_path, \"w\") as f:\n",
    "        f.write(card)\n",
    "    \n",
    "    # Upload to HuggingFace Hub\n",
    "    api = HfApi()\n",
    "    api.upload_file(\n",
    "        path_or_fileobj=readme_path,\n",
    "        path_in_repo=\"README.md\",\n",
    "        repo_id=f\"{HF_USERNAME}/{DATASET_NAME}\",\n",
    "        repo_type=\"dataset\"\n",
    "    )\n",
    "    \n",
    "    print(f\"Dataset card uploaded to https://huggingface.co/datasets/{HF_USERNAME}/{DATASET_NAME}\")\n",
    "\n",
    "# Create and upload dataset card\n",
    "create_dataset_card()"
   ]
  },
  {
   "cell_type": "markdown",
   "metadata": {},
   "source": [
    "## 9. Visualize Samples"
   ]
  },
  {
   "cell_type": "code",
   "execution_count": 16,
   "metadata": {},
   "outputs": [
    {
     "name": "stdout",
     "output_type": "stream",
     "text": [
      "Visualizing samples from the training set...\n"
     ]
    },
    {
     "data": {
      "image/png": "[encoded data removed]",
      "text/plain": [
       "<Figure size 1000x1500 with 5 Axes>"
      ]
     },
     "metadata": {},
     "output_type": "display_data"
    },
    {
     "name": "stdout",
     "output_type": "stream",
     "text": [
      "\n",
      "Process complete! Your dataset is now available at:\n",
      "https://huggingface.co/datasets/Slyracoon23/rrvideo-element-highlights\n"
     ]
    }
   ],
   "source": [
    "def visualize_samples(dataset, num_samples=5):\n",
    "    \"\"\"Visualize random samples from the dataset\"\"\"\n",
    "    if len(dataset) < num_samples:\n",
    "        num_samples = len(dataset)\n",
    "    \n",
    "    indices = np.random.randint(0, len(dataset), num_samples)\n",
    "    \n",
    "    fig, axes = plt.subplots(num_samples, 1, figsize=(10, num_samples * 3))\n",
    "    if num_samples == 1:\n",
    "        axes = [axes]\n",
    "    \n",
    "    for i, idx in enumerate(indices):\n",
    "        sample = dataset[int(idx)]\n",
    "        image = sample[\"image\"]\n",
    "        caption = sample[\"caption\"]\n",
    "        \n",
    "        axes[i].imshow(image)\n",
    "        axes[i].set_title(f\"Caption: {caption}\", fontsize=10)\n",
    "        axes[i].axis(\"off\")\n",
    "    \n",
    "    plt.tight_layout()\n",
    "    plt.savefig(os.path.join(PROCESSED_DATA_DIR, \"sample_visualizations.png\"))\n",
    "    plt.show()\n",
    "\n",
    "# Visualize samples from the training set\n",
    "print(\"Visualizing samples from the training set...\")\n",
    "visualize_samples(dataset_dict[\"train\"])\n",
    "\n",
    "print(\"\\nProcess complete! Your dataset is now available at:\")\n",
    "print(f\"https://huggingface.co/datasets/{HF_USERNAME}/{DATASET_NAME}\")"
   ]
  }
 ],
 "metadata": {
  "kernelspec": {
   "display_name": "Python 3",
   "language": "python",
   "name": "python3"
  },
  "language_info": {
   "codemirror_mode": {
    "name": "ipython",
    "version": 3
   },
   "file_extension": ".py",
   "mimetype": "text/x-python",
   "name": "python",
   "nbconvert_exporter": "python",
   "pygments_lexer": "ipython3",
   "version": "3.8.10"
  }
 },
 "nbformat": 4,
 "nbformat_minor": 4
}
